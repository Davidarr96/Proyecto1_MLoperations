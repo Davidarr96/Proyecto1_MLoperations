{
  "nbformat": 4,
  "nbformat_minor": 0,
  "metadata": {
    "colab": {
      "provenance": [],
      "authorship_tag": "ABX9TyMLU+tQGJply+ODRLJz+xr7",
      "include_colab_link": true
    },
    "kernelspec": {
      "name": "python3",
      "display_name": "Python 3"
    },
    "language_info": {
      "name": "python"
    }
  },
  "cells": [
    {
      "cell_type": "markdown",
      "metadata": {
        "id": "view-in-github",
        "colab_type": "text"
      },
      "source": [
        "<a href=\"https://colab.research.google.com/github/Davidarr96/Proyecto1_MLoperations/blob/main/Modelo_Recomendaci%C3%B2n.ipynb\" target=\"_parent\"><img src=\"https://colab.research.google.com/assets/colab-badge.svg\" alt=\"Open In Colab\"/></a>"
      ]
    },
    {
      "cell_type": "markdown",
      "source": [
        "\n",
        "# **MODELO DE RECOMENDACION\n"
      ],
      "metadata": {
        "id": "UjYmhdIhHyiD"
      }
    },
    {
      "cell_type": "code",
      "execution_count": 2,
      "metadata": {
        "colab": {
          "base_uri": "https://localhost:8080/"
        },
        "id": "eharNX9eG-4s",
        "outputId": "984390f0-ddda-497f-fd8e-e1ca91c1d486"
      },
      "outputs": [
        {
          "output_type": "stream",
          "name": "stdout",
          "text": [
            "Looking in indexes: https://pypi.org/simple, https://us-python.pkg.dev/colab-wheels/public/simple/\n",
            "Requirement already satisfied: scikit-learn in /usr/local/lib/python3.10/dist-packages (1.2.2)\n",
            "Requirement already satisfied: numpy>=1.17.3 in /usr/local/lib/python3.10/dist-packages (from scikit-learn) (1.22.4)\n",
            "Requirement already satisfied: scipy>=1.3.2 in /usr/local/lib/python3.10/dist-packages (from scikit-learn) (1.10.1)\n",
            "Requirement already satisfied: joblib>=1.1.1 in /usr/local/lib/python3.10/dist-packages (from scikit-learn) (1.2.0)\n",
            "Requirement already satisfied: threadpoolctl>=2.0.0 in /usr/local/lib/python3.10/dist-packages (from scikit-learn) (3.1.0)\n"
          ]
        }
      ],
      "source": [
        "#Instalamos las librerias a utilizar\n",
        "!pip install scikit-learn\n",
        "\n"
      ]
    },
    {
      "cell_type": "code",
      "source": [
        "#Importamos las principales correspondencias\n",
        "import numpy as pd\n",
        "import pandas as pd \n",
        "from sklearn.feature_extraction.text import TfidfVectorizer\n",
        "from sklearn.metrics.pairwise import linear_kernel"
      ],
      "metadata": {
        "id": "jk8BhX6LHUDu"
      },
      "execution_count": 3,
      "outputs": []
    },
    {
      "cell_type": "code",
      "source": [
        "# Vinculamos google colab con google drive para importar el dataset\n",
        "from google.colab import drive\n",
        "drive.mount('/content/drive')"
      ],
      "metadata": {
        "colab": {
          "base_uri": "https://localhost:8080/"
        },
        "id": "pKBB8yyvIQo2",
        "outputId": "31b1a298-a902-4dc2-aaa2-e7373054af28"
      },
      "execution_count": 4,
      "outputs": [
        {
          "output_type": "stream",
          "name": "stdout",
          "text": [
            "Drive already mounted at /content/drive; to attempt to forcibly remount, call drive.mount(\"/content/drive\", force_remount=True).\n"
          ]
        }
      ]
    },
    {
      "cell_type": "code",
      "source": [
        "# Levantamos el datasets y guardamos en una variable\n",
        "data_movies = pd.read_csv('/content/drive/MyDrive/datatsets/data_movies.csv', sep=',', encoding='utf-8')"
      ],
      "metadata": {
        "colab": {
          "base_uri": "https://localhost:8080/"
        },
        "id": "iE0RmOwYI04e",
        "outputId": "57c2bc62-d4be-49c0-9786-b2012c20ad45"
      },
      "execution_count": 5,
      "outputs": [
        {
          "output_type": "stream",
          "name": "stderr",
          "text": [
            "<ipython-input-5-2c25a8678df1>:2: DtypeWarning: Columns (6) have mixed types. Specify dtype option on import or set low_memory=False.\n",
            "  data_movies = pd.read_csv('/content/drive/MyDrive/datatsets/data_movies.csv', sep=',', encoding='utf-8')\n"
          ]
        }
      ]
    },
    {
      "cell_type": "code",
      "source": [
        "data_movie = data_movies.sample(n=1000, random_state=42) #Limitamos la lista debido a mi capacidad de memoria RAM"
      ],
      "metadata": {
        "id": "b65rr9IAL_1D"
      },
      "execution_count": 6,
      "outputs": []
    },
    {
      "cell_type": "code",
      "source": [
        "#Creamos las variables para poder configurar nuestro modelo\n",
        "tfidf= TfidfVectorizer(stop_words = 'english') #Esta funcion hace que el código no se detenga ante un error\n",
        "data_movie['overview'] = data_movie['overview'].fillna('') # Relleno los nulos con espacios vacios\n",
        "tfidf_matrix = tfidf.fit_transform(data_movie['overview']) # entrena el modelo overwiew\n",
        "cosine_sim = linear_kernel(tfidf_matrix, tfidf_matrix) #Defino la función que obtendrá recomendaciones, basado en el título de la película ingresado por el usuario\n",
        "data_movie.drop_duplicates(inplace=True) # Eliminamos duplicados\n",
        "data_movie = data_movie.reset_index(drop=True) # Reseteo los Indices para evitar inconvenientes\n",
        "indices = pd.Series(data_movie.index, index=data_movie['title']) #Convierte los títulos de las películas en índices para obtener una respuesta rapida\n",
        "tfidf_matrix.shape"
      ],
      "metadata": {
        "colab": {
          "base_uri": "https://localhost:8080/"
        },
        "id": "u_TeE0pnJeyY",
        "outputId": "bad621d7-e2d6-40fe-9a22-338120c4e747"
      },
      "execution_count": 8,
      "outputs": [
        {
          "output_type": "execute_result",
          "data": {
            "text/plain": [
              "(1000, 9740)"
            ]
          },
          "metadata": {},
          "execution_count": 8
        }
      ]
    },
    {
      "cell_type": "code",
      "source": [
        "#Realizamos la funcion que nos devolverá 5 peliculas de recomendación\n",
        "def recomendaciones(title, cosine_sim = cosine_sim):\n",
        "    idx = indices[title]\n",
        "    sim_scores = list(enumerate(cosine_sim[idx]))\n",
        "    sim_scores = sorted(sim_scores, key= lambda x: x[1], reverse=True)\n",
        "    sim_scores = sim_scores[1:6]\n",
        "    movie_indices = [i[0] for i in sim_scores]\n",
        "    recomendaciones=list(data_movie['title'].iloc[movie_indices]) \n",
        "    return {'lista recomendada': recomendaciones}"
      ],
      "metadata": {
        "id": "x1qM4cS0MvF9"
      },
      "execution_count": 17,
      "outputs": []
    },
    {
      "cell_type": "code",
      "source": [
        "#Buscamos algunos títulos para examinar nuestro modelo\n",
        "data_movie['title'].head()\n"
      ],
      "metadata": {
        "colab": {
          "base_uri": "https://localhost:8080/"
        },
        "id": "WrlMuWHSOa0V",
        "outputId": "d73e878f-ad1b-4cf9-ced5-d46136ea7ff6"
      },
      "execution_count": 18,
      "outputs": [
        {
          "output_type": "execute_result",
          "data": {
            "text/plain": [
              "0           Extraction\n",
              "1     Print the Legend\n",
              "2        The Glass Key\n",
              "3    The Sunshine Boys\n",
              "4             No Mercy\n",
              "Name: title, dtype: object"
            ]
          },
          "metadata": {},
          "execution_count": 18
        }
      ]
    },
    {
      "cell_type": "code",
      "source": [
        "# Entrenamos nuestro modelo con uno de los titulos disponibles\n",
        "recomendaciones('No Mercy')\n"
      ],
      "metadata": {
        "colab": {
          "base_uri": "https://localhost:8080/"
        },
        "id": "ItUb2CN3OqSF",
        "outputId": "84ca969d-1596-4b8b-a70f-6d1a53649543"
      },
      "execution_count": 21,
      "outputs": [
        {
          "output_type": "execute_result",
          "data": {
            "text/plain": [
              "{'lista recomendada': ['Little Italy',\n",
              "  'Grey Lady',\n",
              "  'The Angels Wash Their Faces',\n",
              "  'In Bed with Victoria',\n",
              "  'Paranoia']}"
            ]
          },
          "metadata": {},
          "execution_count": 21
        }
      ]
    },
    {
      "cell_type": "markdown",
      "source": [
        "Nuetro modelo funciona, por lo tanto este sería el final del proyecto"
      ],
      "metadata": {
        "id": "y856foL8RhUr"
      }
    }
  ]
}